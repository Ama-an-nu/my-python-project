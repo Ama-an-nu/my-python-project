{
 "cells": [
  {
   "cell_type": "code",
   "execution_count": 2,
   "id": "95511269",
   "metadata": {},
   "outputs": [
    {
     "name": "stdout",
     "output_type": "stream",
     "text": [
      "Helllo Gitttii Pittti hell yeaahhh\n"
     ]
    }
   ],
   "source": [
    "print(\"Helllo Gitttii Pittti hell yeaahhh\")"
   ]
  }
 ],
 "metadata": {
  "kernelspec": {
   "display_name": "base",
   "language": "python",
   "name": "python3"
  },
  "language_info": {
   "codemirror_mode": {
    "name": "ipython",
    "version": 3
   },
   "file_extension": ".py",
   "mimetype": "text/x-python",
   "name": "python",
   "nbconvert_exporter": "python",
   "pygments_lexer": "ipython3",
   "version": "3.12.7"
  }
 },
 "nbformat": 4,
 "nbformat_minor": 5
}
